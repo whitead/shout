{
 "cells": [
  {
   "cell_type": "code",
   "execution_count": 2,
   "id": "13a9aaba",
   "metadata": {},
   "outputs": [
    {
     "data": {
      "text/plain": [
       "<coroutine object install_logger at 0x1040e9f40>"
      ]
     },
     "execution_count": 2,
     "metadata": {},
     "output_type": "execute_result"
    }
   ],
   "source": [
    "import shout\n",
    "\n",
    "shout.install_logger('messages.csv')"
   ]
  },
  {
   "cell_type": "code",
   "execution_count": 5,
   "id": "43007360",
   "metadata": {},
   "outputs": [],
   "source": [
    "\n",
    "s = shout.Subscriber()"
   ]
  },
  {
   "cell_type": "code",
   "execution_count": 6,
   "id": "58a80302",
   "metadata": {},
   "outputs": [
    {
     "name": "stdout",
     "output_type": "stream",
     "text": [
      "  from the microphone. So like you can have one that's always recording everything to a SQL,\n",
      "  you could have one that's connected to an agent, you could have one that just, I don't know,\n",
      "  repeats back or listens for hot words.\n",
      "  or listens for hot words.\n",
      "  - So you can then take the audio input\n",
      "  and you can divide it and actually store the time series.\n",
      "  - Yep, exactly.\n",
      "  Nice.\n",
      "  That's very cool.\n",
      "  Yeah, I like that it can tell like multiple people are speaking as well.\n"
     ]
    }
   ],
   "source": [
    "for i in range(10):\n",
    "    m = s.get()\n",
    "    print(m.text)"
   ]
  },
  {
   "cell_type": "code",
   "execution_count": null,
   "id": "b6cecffa",
   "metadata": {},
   "outputs": [],
   "source": []
  }
 ],
 "metadata": {
  "kernelspec": {
   "display_name": "Python 3 (ipykernel)",
   "language": "python",
   "name": "python3"
  },
  "language_info": {
   "codemirror_mode": {
    "name": "ipython",
    "version": 3
   },
   "file_extension": ".py",
   "mimetype": "text/x-python",
   "name": "python",
   "nbconvert_exporter": "python",
   "pygments_lexer": "ipython3",
   "version": "3.11.0"
  }
 },
 "nbformat": 4,
 "nbformat_minor": 5
}
